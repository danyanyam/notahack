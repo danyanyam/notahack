{
 "cells": [
  {
   "cell_type": "code",
   "execution_count": 1,
   "metadata": {
    "colab": {},
    "colab_type": "code",
    "id": "NIXx5Qx2O3-k",
    "outputId": "04e61a1e-344b-46e7-928e-6ef6045d18ff"
   },
   "outputs": [
    {
     "ename": "NameError",
     "evalue": "name 'PATH_MAN' is not defined",
     "output_type": "error",
     "traceback": [
      "\u001b[0;31m---------------------------------------------------------------------------\u001b[0m",
      "\u001b[0;31mNameError\u001b[0m                                 Traceback (most recent call last)",
      "\u001b[0;32m<ipython-input-1-d8cf24e2c1f9>\u001b[0m in \u001b[0;36m<module>\u001b[0;34m\u001b[0m\n\u001b[1;32m      2\u001b[0m \u001b[0;34m\u001b[0m\u001b[0m\n\u001b[1;32m      3\u001b[0m \u001b[0mPATH_ME\u001b[0m \u001b[0;34m=\u001b[0m \u001b[0;34m'кастомные саунды/всемпривет.wav'\u001b[0m\u001b[0;34m\u001b[0m\u001b[0;34m\u001b[0m\u001b[0m\n\u001b[0;32m----> 4\u001b[0;31m \u001b[0mipd\u001b[0m\u001b[0;34m.\u001b[0m\u001b[0mAudio\u001b[0m\u001b[0;34m(\u001b[0m\u001b[0mPATH_MAN\u001b[0m\u001b[0;34m)\u001b[0m\u001b[0;34m\u001b[0m\u001b[0;34m\u001b[0m\u001b[0m\n\u001b[0m",
      "\u001b[0;31mNameError\u001b[0m: name 'PATH_MAN' is not defined"
     ]
    }
   ],
   "source": [
    "import IPython.display as ipd\n",
    "\n",
    "PATH_ME = 'кастомные саунды/всемпривет.wav'\n",
    "ipd.Audio(PATH_MAN) "
   ]
  },
  {
   "cell_type": "code",
   "execution_count": 2,
   "metadata": {
    "colab": {
     "base_uri": "https://localhost:8080/",
     "height": 122
    },
    "colab_type": "code",
    "id": "0WJrWLpTO3-v",
    "outputId": "59f81c16-172d-49c0-8f69-419a698aea30"
   },
   "outputs": [
    {
     "name": "stdout",
     "output_type": "stream",
     "text": [
      "Requirement already satisfied: vosk in /home/neeveermoree/anaconda3/envs/vhack/lib/python3.8/site-packages (0.3.7)\r\n"
     ]
    }
   ],
   "source": [
    "!pip install vosk"
   ]
  },
  {
   "cell_type": "code",
   "execution_count": 3,
   "metadata": {
    "colab": {
     "base_uri": "https://localhost:8080/",
     "height": 51
    },
    "colab_type": "code",
    "id": "HttAD_kAO3-z",
    "outputId": "3caebd29-d377-4c08-cf6d-09ac826f402f"
   },
   "outputs": [
    {
     "ename": "ModuleNotFoundError",
     "evalue": "No module named 'vosk'",
     "output_type": "error",
     "traceback": [
      "\u001b[0;31m---------------------------------------------------------------------------\u001b[0m",
      "\u001b[0;31mModuleNotFoundError\u001b[0m                       Traceback (most recent call last)",
      "\u001b[0;32m<ipython-input-3-7d0c46466469>\u001b[0m in \u001b[0;36m<module>\u001b[0;34m\u001b[0m\n\u001b[0;32m----> 1\u001b[0;31m \u001b[0;32mfrom\u001b[0m \u001b[0mvosk\u001b[0m \u001b[0;32mimport\u001b[0m \u001b[0mModel\u001b[0m\u001b[0;34m,\u001b[0m \u001b[0mKaldiRecognizer\u001b[0m\u001b[0;34m\u001b[0m\u001b[0;34m\u001b[0m\u001b[0m\n\u001b[0m\u001b[1;32m      2\u001b[0m \u001b[0;32mimport\u001b[0m \u001b[0msys\u001b[0m\u001b[0;34m\u001b[0m\u001b[0;34m\u001b[0m\u001b[0m\n\u001b[1;32m      3\u001b[0m \u001b[0;32mimport\u001b[0m \u001b[0mjson\u001b[0m\u001b[0;34m\u001b[0m\u001b[0;34m\u001b[0m\u001b[0m\n\u001b[1;32m      4\u001b[0m \u001b[0;32mimport\u001b[0m \u001b[0mos\u001b[0m\u001b[0;34m\u001b[0m\u001b[0;34m\u001b[0m\u001b[0m\n\u001b[1;32m      5\u001b[0m \u001b[0;32mimport\u001b[0m \u001b[0mwave\u001b[0m\u001b[0;34m\u001b[0m\u001b[0;34m\u001b[0m\u001b[0m\n",
      "\u001b[0;31mModuleNotFoundError\u001b[0m: No module named 'vosk'"
     ]
    }
   ],
   "source": [
    "from vosk import Model, KaldiRecognizer\n",
    "import sys\n",
    "import json\n",
    "import os\n",
    "import wave \n",
    "\n",
    "\n",
    "\n",
    "def load_voice(PATH):\n",
    "    name = 'drive/My Drive/ssh/vosk-model-small-ru-0.4' # путь к весам\n",
    "    wf = wave.open(PATH, \"rb\")\n",
    "\n",
    "    if wf.getnchannels() != 1 or wf.getsampwidth() != 2 or wf.getcomptype() != \"NONE\":\n",
    "        print (\"Audio file must be WAV format mono PCM.\")\n",
    "        exit (1)\n",
    "\n",
    "    model = Model(name)\n",
    "    rec = KaldiRecognizer(model, wf.getframerate())\n",
    "\n",
    "    while True:\n",
    "        data = wf.readframes(4000)\n",
    "        if len(data) == 0:\n",
    "            break\n",
    "        if rec.AcceptWaveform(data):\n",
    "            pass\n",
    "        \n",
    "    return json.loads(rec.FinalResult())['text']\n",
    "\n",
    "\n",
    "PATH = 'drive/My Drive/ssh/test wavs/тест1.wav'\n",
    "PATH = 'output.wav' # путь к файлу\n",
    "load_voice(PATH)"
   ]
  },
  {
   "cell_type": "code",
   "execution_count": 0,
   "metadata": {
    "colab": {
     "base_uri": "https://localhost:8080/",
     "height": 34
    },
    "colab_type": "code",
    "id": "M_w3toZ9UhOL",
    "outputId": "5453b5ec-b63c-43df-e7ce-15f3aa437799"
   },
   "outputs": [
    {
     "name": "stdout",
     "output_type": "stream",
     "text": [
      "Привет всем меня зовут ты не и я живу в городе москва. Всем привет с вами даниил очко.\n"
     ]
    }
   ],
   "source": [
    "import os\n",
    "\n",
    "PATH_MAIN = 'drive/My Drive/ssh/test wavs'\n",
    "wav_sounds = sorted([i for i in os.listdir(PATH_MAIN) if len(i.split('.wav')) != 1])\n",
    "\n",
    "previously_said = []\n",
    "for wav in wav_sounds:\n",
    "    previously_said.append(load_voice(wav).capitalize() + '.')\n",
    "\n",
    "print(' '.join(previously_said))"
   ]
  }
 ],
 "metadata": {
  "colab": {
   "name": "model_danya-3.ipynb",
   "provenance": []
  },
  "kernelspec": {
   "display_name": "Python 3",
   "language": "python",
   "name": "python3"
  },
  "language_info": {
   "codemirror_mode": {
    "name": "ipython",
    "version": 3
   },
   "file_extension": ".py",
   "mimetype": "text/x-python",
   "name": "python",
   "nbconvert_exporter": "python",
   "pygments_lexer": "ipython3",
   "version": "3.6.9"
  }
 },
 "nbformat": 4,
 "nbformat_minor": 1
}
